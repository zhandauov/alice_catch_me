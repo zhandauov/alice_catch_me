{
  "nbformat": 4,
  "nbformat_minor": 0,
  "metadata": {
    "kernelspec": {
      "display_name": "Python 3",
      "language": "python",
      "name": "python3"
    },
    "language_info": {
      "codemirror_mode": {
        "name": "ipython",
        "version": 3
      },
      "file_extension": ".py",
      "mimetype": "text/x-python",
      "name": "python",
      "nbconvert_exporter": "python",
      "pygments_lexer": "ipython3",
      "version": "3.8.5"
    },
    "colab": {
      "name": "alice_catch_me.ipynb",
      "provenance": [],
      "toc_visible": true
    },
    "accelerator": "TPU"
  },
  "cells": [
    {
      "cell_type": "code",
      "metadata": {
        "colab": {
          "base_uri": "https://localhost:8080/"
        },
        "id": "-c2titk4ZJdI",
        "outputId": "90af43c2-bced-4bc8-bf34-ccbff6afea02"
      },
      "source": [
        "!git clone https://github.com/zhandauov/alice_catch_me.git"
      ],
      "execution_count": null,
      "outputs": [
        {
          "output_type": "stream",
          "text": [
            "Cloning into 'alice_catch_me'...\n",
            "remote: Enumerating objects: 10, done.\u001b[K\n",
            "remote: Counting objects: 100% (10/10), done.\u001b[K\n",
            "remote: Compressing objects: 100% (10/10), done.\u001b[K\n",
            "remote: Total 10 (delta 0), reused 10 (delta 0), pack-reused 0\u001b[K\n",
            "Unpacking objects: 100% (10/10), done.\n"
          ],
          "name": "stdout"
        }
      ]
    },
    {
      "cell_type": "code",
      "metadata": {
        "id": "Taili-AUKEfv"
      },
      "source": [
        "import numpy as np\n",
        "import pandas as pd\n",
        "import pickle"
      ],
      "execution_count": null,
      "outputs": []
    },
    {
      "cell_type": "code",
      "metadata": {
        "id": "bWJstMG8d_e5"
      },
      "source": [
        "path_train = 'alice_catch_me/train_sessions.csv'\r\n",
        "path_test = 'alice_catch_me/test_sessions.csv'"
      ],
      "execution_count": null,
      "outputs": []
    },
    {
      "cell_type": "code",
      "metadata": {
        "id": "R95BpNOuKEf6",
        "outputId": "750be07e-a0cd-4fff-c35d-1d77f5c42d79"
      },
      "source": [
        "train_data = pd.read_csv(path_train)\n",
        "train_data.shape"
      ],
      "execution_count": null,
      "outputs": [
        {
          "output_type": "execute_result",
          "data": {
            "text/plain": [
              "(253561, 22)"
            ]
          },
          "metadata": {
            "tags": []
          },
          "execution_count": 3
        }
      ]
    },
    {
      "cell_type": "code",
      "metadata": {
        "id": "1GoV9EMCKEf8"
      },
      "source": [
        "def transform_data(data):\n",
        "    for i in range(1,11):\n",
        "        temp_name = 'time' + str(i)\n",
        "        data[temp_name] = pd.to_datetime(data[temp_name], format = '%Y-%m-%d %H:%M:%S')\n",
        "\n",
        "    data['start_hour'] = data['time1'].dt.hour\n",
        "    data['s_duration'] = np.zeros((data.shape[0],))\n",
        "\n",
        "    data['s_duration'] = (data['time10'] - data['time1']) / np.timedelta64(1, 'm')\n",
        "    for i in range(9,0,-1):\n",
        "        temp_name = 'time' + str(i)\n",
        "        data.loc[data['s_duration'].isnull() == True, 's_duration'] = (data[temp_name] - data['time1']) / np.timedelta64(1, 'm')\n",
        "    data['s_duration'] = data['s_duration'].round(2)\n",
        "\n",
        "    for i in range(10,0,-1):\n",
        "        temp_name = 'time' + str(i)\n",
        "        data.drop([temp_name], axis=1, inplace = True)\n",
        "\n",
        "    data.drop(['session_id'], axis=1, inplace = True)\n",
        "\n",
        "    data.fillna(0, inplace=True)\n",
        "\n",
        "    for i in range(1,11):\n",
        "        sitename = 'site' + str(i)\n",
        "        data[sitename] = data[sitename].astype('int64')\n",
        "    return data"
      ],
      "execution_count": null,
      "outputs": []
    },
    {
      "cell_type": "code",
      "metadata": {
        "id": "J1RpgyoOKEf-",
        "outputId": "b1e52831-13af-49de-f3b9-093b5bf0bbbc"
      },
      "source": [
        "train_data.head()"
      ],
      "execution_count": null,
      "outputs": [
        {
          "output_type": "execute_result",
          "data": {
            "text/html": [
              "<div>\n",
              "<style scoped>\n",
              "    .dataframe tbody tr th:only-of-type {\n",
              "        vertical-align: middle;\n",
              "    }\n",
              "\n",
              "    .dataframe tbody tr th {\n",
              "        vertical-align: top;\n",
              "    }\n",
              "\n",
              "    .dataframe thead th {\n",
              "        text-align: right;\n",
              "    }\n",
              "</style>\n",
              "<table border=\"1\" class=\"dataframe\">\n",
              "  <thead>\n",
              "    <tr style=\"text-align: right;\">\n",
              "      <th></th>\n",
              "      <th>site1</th>\n",
              "      <th>site2</th>\n",
              "      <th>site3</th>\n",
              "      <th>site4</th>\n",
              "      <th>site5</th>\n",
              "      <th>site6</th>\n",
              "      <th>site7</th>\n",
              "      <th>site8</th>\n",
              "      <th>site9</th>\n",
              "      <th>site10</th>\n",
              "      <th>target</th>\n",
              "      <th>start_hour</th>\n",
              "      <th>s_duration</th>\n",
              "    </tr>\n",
              "  </thead>\n",
              "  <tbody>\n",
              "    <tr>\n",
              "      <th>0</th>\n",
              "      <td>718</td>\n",
              "      <td>0</td>\n",
              "      <td>0</td>\n",
              "      <td>0</td>\n",
              "      <td>0</td>\n",
              "      <td>0</td>\n",
              "      <td>0</td>\n",
              "      <td>0</td>\n",
              "      <td>0</td>\n",
              "      <td>0</td>\n",
              "      <td>0</td>\n",
              "      <td>10</td>\n",
              "      <td>0.00</td>\n",
              "    </tr>\n",
              "    <tr>\n",
              "      <th>1</th>\n",
              "      <td>890</td>\n",
              "      <td>941</td>\n",
              "      <td>3847</td>\n",
              "      <td>941</td>\n",
              "      <td>942</td>\n",
              "      <td>3846</td>\n",
              "      <td>3847</td>\n",
              "      <td>3846</td>\n",
              "      <td>1516</td>\n",
              "      <td>1518</td>\n",
              "      <td>0</td>\n",
              "      <td>11</td>\n",
              "      <td>0.43</td>\n",
              "    </tr>\n",
              "    <tr>\n",
              "      <th>2</th>\n",
              "      <td>14769</td>\n",
              "      <td>39</td>\n",
              "      <td>14768</td>\n",
              "      <td>14769</td>\n",
              "      <td>37</td>\n",
              "      <td>39</td>\n",
              "      <td>14768</td>\n",
              "      <td>14768</td>\n",
              "      <td>14768</td>\n",
              "      <td>14768</td>\n",
              "      <td>0</td>\n",
              "      <td>16</td>\n",
              "      <td>0.12</td>\n",
              "    </tr>\n",
              "    <tr>\n",
              "      <th>3</th>\n",
              "      <td>782</td>\n",
              "      <td>782</td>\n",
              "      <td>782</td>\n",
              "      <td>782</td>\n",
              "      <td>782</td>\n",
              "      <td>782</td>\n",
              "      <td>782</td>\n",
              "      <td>782</td>\n",
              "      <td>782</td>\n",
              "      <td>782</td>\n",
              "      <td>0</td>\n",
              "      <td>10</td>\n",
              "      <td>4.50</td>\n",
              "    </tr>\n",
              "    <tr>\n",
              "      <th>4</th>\n",
              "      <td>22</td>\n",
              "      <td>177</td>\n",
              "      <td>175</td>\n",
              "      <td>178</td>\n",
              "      <td>177</td>\n",
              "      <td>178</td>\n",
              "      <td>175</td>\n",
              "      <td>177</td>\n",
              "      <td>177</td>\n",
              "      <td>178</td>\n",
              "      <td>0</td>\n",
              "      <td>10</td>\n",
              "      <td>4.10</td>\n",
              "    </tr>\n",
              "  </tbody>\n",
              "</table>\n",
              "</div>"
            ],
            "text/plain": [
              "   site1  site2  site3  site4  site5  site6  site7  site8  site9  site10  \\\n",
              "0    718      0      0      0      0      0      0      0      0       0   \n",
              "1    890    941   3847    941    942   3846   3847   3846   1516    1518   \n",
              "2  14769     39  14768  14769     37     39  14768  14768  14768   14768   \n",
              "3    782    782    782    782    782    782    782    782    782     782   \n",
              "4     22    177    175    178    177    178    175    177    177     178   \n",
              "\n",
              "   target  start_hour  s_duration  \n",
              "0       0          10        0.00  \n",
              "1       0          11        0.43  \n",
              "2       0          16        0.12  \n",
              "3       0          10        4.50  \n",
              "4       0          10        4.10  "
            ]
          },
          "metadata": {
            "tags": []
          },
          "execution_count": 11
        }
      ]
    },
    {
      "cell_type": "code",
      "metadata": {
        "id": "kO1Oo2n4KEf_"
      },
      "source": [
        "with open('alice_catch_me/site_dic.pkl', 'rb') as f:\n",
        "    site_dictionary = pickle.load(f)"
      ],
      "execution_count": null,
      "outputs": []
    },
    {
      "cell_type": "code",
      "metadata": {
        "colab": {
          "base_uri": "https://localhost:8080/"
        },
        "id": "aGwB8JxDKEf_",
        "outputId": "04d9548a-3080-4465-9bac-287dc759c742"
      },
      "source": [
        "len(site_dictionary)"
      ],
      "execution_count": null,
      "outputs": [
        {
          "output_type": "execute_result",
          "data": {
            "text/plain": [
              "48371"
            ]
          },
          "metadata": {
            "tags": []
          },
          "execution_count": 7
        }
      ]
    },
    {
      "cell_type": "code",
      "metadata": {
        "id": "npKr0cahKEgA"
      },
      "source": [
        "site_dictionary"
      ],
      "execution_count": null,
      "outputs": []
    },
    {
      "cell_type": "code",
      "metadata": {
        "id": "aBevTLnYKEgA"
      },
      "source": [
        "def find_site_byid(id):\n",
        "    for key, value in site_dictionary.items():\n",
        "        if value == id:\n",
        "            print(key)"
      ],
      "execution_count": null,
      "outputs": []
    },
    {
      "cell_type": "markdown",
      "metadata": {
        "id": "YWKlytDUKEgB"
      },
      "source": [
        "## Machine Learning time! <3"
      ]
    },
    {
      "cell_type": "code",
      "metadata": {
        "id": "zgw0xWo1KEgB"
      },
      "source": [
        "from xgboost import XGBClassifier\n",
        "from sklearn.metrics import accuracy_score\n",
        "from sklearn.model_selection import train_test_split"
      ],
      "execution_count": null,
      "outputs": []
    },
    {
      "cell_type": "code",
      "metadata": {
        "id": "K8yoVNOkKEgB"
      },
      "source": [
        "X_train, X_test, y_train, y_test = train_test_split(np.asarray(train_data.drop(['target'], axis = 1)), np.asarray(train_data['target']), test_size=0.20, random_state=42)"
      ],
      "execution_count": null,
      "outputs": []
    },
    {
      "cell_type": "code",
      "metadata": {
        "id": "lA-Fz-HVKEgC",
        "outputId": "cc8f28ad-8baf-4f3d-9dea-5c8b07c1b9a8"
      },
      "source": [
        "classifier = XGBClassifier()\n",
        "classifier.fit(np.asarray(train_data.drop(['target'], axis = 1)), np.asarray(train_data['target']))"
      ],
      "execution_count": null,
      "outputs": [
        {
          "output_type": "stream",
          "text": [
            "D:\\Programs\\Anaconda\\lib\\site-packages\\xgboost\\sklearn.py:888: UserWarning: The use of label encoder in XGBClassifier is deprecated and will be removed in a future release. To remove this warning, do the following: 1) Pass option use_label_encoder=False when constructing XGBClassifier object; and 2) Encode your labels (y) as integers starting with 0, i.e. 0, 1, 2, ..., [num_class - 1].\n",
            "  warnings.warn(label_encoder_deprecation_msg, UserWarning)\n"
          ],
          "name": "stderr"
        },
        {
          "output_type": "stream",
          "text": [
            "[12:05:02] WARNING: C:/Users/Administrator/workspace/xgboost-win64_release_1.3.0/src/learner.cc:1061: Starting in XGBoost 1.3.0, the default evaluation metric used with the objective 'binary:logistic' was changed from 'error' to 'logloss'. Explicitly set eval_metric if you'd like to restore the old behavior.\n"
          ],
          "name": "stdout"
        },
        {
          "output_type": "execute_result",
          "data": {
            "text/plain": [
              "XGBClassifier(base_score=0.5, booster='gbtree', colsample_bylevel=1,\n",
              "              colsample_bynode=1, colsample_bytree=1, gamma=0, gpu_id=-1,\n",
              "              importance_type='gain', interaction_constraints='',\n",
              "              learning_rate=0.300000012, max_delta_step=0, max_depth=6,\n",
              "              min_child_weight=1, missing=nan, monotone_constraints='()',\n",
              "              n_estimators=100, n_jobs=4, num_parallel_tree=1, random_state=0,\n",
              "              reg_alpha=0, reg_lambda=1, scale_pos_weight=1, subsample=1,\n",
              "              tree_method='exact', validate_parameters=1, verbosity=None)"
            ]
          },
          "metadata": {
            "tags": []
          },
          "execution_count": 20
        }
      ]
    },
    {
      "cell_type": "code",
      "metadata": {
        "id": "KAzuAWxoKEgC"
      },
      "source": [
        "y_pred = classifier.predict(X_test)"
      ],
      "execution_count": null,
      "outputs": []
    },
    {
      "cell_type": "code",
      "metadata": {
        "id": "v3xVcMnEKEgD",
        "outputId": "4ffa0998-43a7-4dff-bbd5-a4909395cf2e"
      },
      "source": [
        "y_pred"
      ],
      "execution_count": null,
      "outputs": [
        {
          "output_type": "execute_result",
          "data": {
            "text/plain": [
              "array([0, 0, 0, ..., 1, 0, 0], dtype=int64)"
            ]
          },
          "metadata": {
            "tags": []
          },
          "execution_count": 72
        }
      ]
    },
    {
      "cell_type": "code",
      "metadata": {
        "id": "-sYOS3q5KEgD",
        "outputId": "70d07382-7c3b-4fc0-8e83-719c0760e228"
      },
      "source": [
        "accuracy_score(y_pred, y_test)"
      ],
      "execution_count": null,
      "outputs": [
        {
          "output_type": "execute_result",
          "data": {
            "text/plain": [
              "0.9929406661013941"
            ]
          },
          "metadata": {
            "tags": []
          },
          "execution_count": 73
        }
      ]
    },
    {
      "cell_type": "markdown",
      "metadata": {
        "id": "AmH3WnXhKEgD"
      },
      "source": [
        "## Submission"
      ]
    },
    {
      "cell_type": "code",
      "metadata": {
        "id": "bkVIGRDtKEgE"
      },
      "source": [
        "test_set = pd.read_csv('test_sessions.csv')\n",
        "test_set.shape"
      ],
      "execution_count": null,
      "outputs": []
    },
    {
      "cell_type": "code",
      "metadata": {
        "id": "tEsmv7wWKEgF"
      },
      "source": [
        "test_set"
      ],
      "execution_count": null,
      "outputs": []
    },
    {
      "cell_type": "code",
      "metadata": {
        "id": "2UINESR1KEgG"
      },
      "source": [
        "sub_pred = classifier.predict(np.asarray(test_set))"
      ],
      "execution_count": null,
      "outputs": []
    },
    {
      "cell_type": "code",
      "metadata": {
        "id": "EI6tTpyPnHLf"
      },
      "source": [
        "test_sites = test.iloc[:,:10]\r\n",
        "test_times = test.iloc[:,10:]\r\n",
        "preds = model.predict(x=[test_sites, test_times])"
      ],
      "execution_count": null,
      "outputs": []
    },
    {
      "cell_type": "code",
      "metadata": {
        "id": "cJ-JDMSoKEgG"
      },
      "source": [
        "test_set = pd.read_csv('alice_catch_me/test_sessions.csv')"
      ],
      "execution_count": null,
      "outputs": []
    },
    {
      "cell_type": "code",
      "metadata": {
        "id": "C6l9XC6jKEgG"
      },
      "source": [
        "test_set = test_set['session_id']"
      ],
      "execution_count": null,
      "outputs": []
    },
    {
      "cell_type": "code",
      "metadata": {
        "id": "jTAzKU2bKEgG",
        "colab": {
          "base_uri": "https://localhost:8080/"
        },
        "outputId": "87d68633-6fcb-45b1-c645-bb0f62b7c983"
      },
      "source": [
        "test_set"
      ],
      "execution_count": null,
      "outputs": [
        {
          "output_type": "execute_result",
          "data": {
            "text/plain": [
              "0            1\n",
              "1            2\n",
              "2            3\n",
              "3            4\n",
              "4            5\n",
              "         ...  \n",
              "82792    82793\n",
              "82793    82794\n",
              "82794    82795\n",
              "82795    82796\n",
              "82796    82797\n",
              "Name: session_id, Length: 82797, dtype: int64"
            ]
          },
          "metadata": {
            "tags": []
          },
          "execution_count": 21
        }
      ]
    },
    {
      "cell_type": "code",
      "metadata": {
        "id": "yyYjZ8NsKEgH"
      },
      "source": [
        "preds = pd.DataFrame(preds)"
      ],
      "execution_count": null,
      "outputs": []
    },
    {
      "cell_type": "code",
      "metadata": {
        "id": "xnG6GnKOKEgH"
      },
      "source": [
        "preds = pd.concat([test_set, preds], axis = 1)"
      ],
      "execution_count": null,
      "outputs": []
    },
    {
      "cell_type": "code",
      "metadata": {
        "colab": {
          "base_uri": "https://localhost:8080/",
          "height": 402
        },
        "id": "Mcn_vaFNncbc",
        "outputId": "bb8681dc-3ae3-4b34-dfe7-fead81cd07c5"
      },
      "source": [
        "preds"
      ],
      "execution_count": null,
      "outputs": [
        {
          "output_type": "execute_result",
          "data": {
            "text/html": [
              "<div>\n",
              "<style scoped>\n",
              "    .dataframe tbody tr th:only-of-type {\n",
              "        vertical-align: middle;\n",
              "    }\n",
              "\n",
              "    .dataframe tbody tr th {\n",
              "        vertical-align: top;\n",
              "    }\n",
              "\n",
              "    .dataframe thead th {\n",
              "        text-align: right;\n",
              "    }\n",
              "</style>\n",
              "<table border=\"1\" class=\"dataframe\">\n",
              "  <thead>\n",
              "    <tr style=\"text-align: right;\">\n",
              "      <th></th>\n",
              "      <th>session_id</th>\n",
              "      <th>0</th>\n",
              "    </tr>\n",
              "  </thead>\n",
              "  <tbody>\n",
              "    <tr>\n",
              "      <th>0</th>\n",
              "      <td>1</td>\n",
              "      <td>2.152496e-06</td>\n",
              "    </tr>\n",
              "    <tr>\n",
              "      <th>1</th>\n",
              "      <td>2</td>\n",
              "      <td>4.303819e-16</td>\n",
              "    </tr>\n",
              "    <tr>\n",
              "      <th>2</th>\n",
              "      <td>3</td>\n",
              "      <td>7.105600e-17</td>\n",
              "    </tr>\n",
              "    <tr>\n",
              "      <th>3</th>\n",
              "      <td>4</td>\n",
              "      <td>1.215825e-15</td>\n",
              "    </tr>\n",
              "    <tr>\n",
              "      <th>4</th>\n",
              "      <td>5</td>\n",
              "      <td>4.034104e-09</td>\n",
              "    </tr>\n",
              "    <tr>\n",
              "      <th>...</th>\n",
              "      <td>...</td>\n",
              "      <td>...</td>\n",
              "    </tr>\n",
              "    <tr>\n",
              "      <th>82792</th>\n",
              "      <td>82793</td>\n",
              "      <td>1.591522e-12</td>\n",
              "    </tr>\n",
              "    <tr>\n",
              "      <th>82793</th>\n",
              "      <td>82794</td>\n",
              "      <td>2.711733e-14</td>\n",
              "    </tr>\n",
              "    <tr>\n",
              "      <th>82794</th>\n",
              "      <td>82795</td>\n",
              "      <td>3.669322e-03</td>\n",
              "    </tr>\n",
              "    <tr>\n",
              "      <th>82795</th>\n",
              "      <td>82796</td>\n",
              "      <td>1.159063e-11</td>\n",
              "    </tr>\n",
              "    <tr>\n",
              "      <th>82796</th>\n",
              "      <td>82797</td>\n",
              "      <td>1.401427e-13</td>\n",
              "    </tr>\n",
              "  </tbody>\n",
              "</table>\n",
              "<p>82797 rows × 2 columns</p>\n",
              "</div>"
            ],
            "text/plain": [
              "       session_id             0\n",
              "0               1  2.152496e-06\n",
              "1               2  4.303819e-16\n",
              "2               3  7.105600e-17\n",
              "3               4  1.215825e-15\n",
              "4               5  4.034104e-09\n",
              "...           ...           ...\n",
              "82792       82793  1.591522e-12\n",
              "82793       82794  2.711733e-14\n",
              "82794       82795  3.669322e-03\n",
              "82795       82796  1.159063e-11\n",
              "82796       82797  1.401427e-13\n",
              "\n",
              "[82797 rows x 2 columns]"
            ]
          },
          "metadata": {
            "tags": []
          },
          "execution_count": 47
        }
      ]
    },
    {
      "cell_type": "code",
      "metadata": {
        "id": "r_tt4Z_utaXN"
      },
      "source": [
        "preds.to_csv('submission_file.csv', float_format='%.15f', index=False)"
      ],
      "execution_count": null,
      "outputs": []
    },
    {
      "cell_type": "code",
      "metadata": {
        "id": "CSxp3-2OKEgH"
      },
      "source": [
        "preds.columns = ['session_id', 'target']"
      ],
      "execution_count": null,
      "outputs": []
    },
    {
      "cell_type": "code",
      "metadata": {
        "id": "yDVotl7hKEgI"
      },
      "source": [
        "preds.to_csv('new_pred.csv', index = False)"
      ],
      "execution_count": null,
      "outputs": []
    },
    {
      "cell_type": "code",
      "metadata": {
        "id": "IaJjRyrTKEgI"
      },
      "source": [
        "import matplotlib.pyplot as plt"
      ],
      "execution_count": null,
      "outputs": []
    },
    {
      "cell_type": "code",
      "metadata": {
        "id": "OlKNfOAJKEgI"
      },
      "source": [
        "plt.bar(range(len(classifier.feature_importances_)), classifier.feature_importances_)\n",
        "plt.show()"
      ],
      "execution_count": null,
      "outputs": []
    },
    {
      "cell_type": "markdown",
      "metadata": {
        "id": "subn3JuRKEgJ"
      },
      "source": [
        "### Word embeddings & dense layers"
      ]
    },
    {
      "cell_type": "code",
      "metadata": {
        "id": "c3CcL4RGKEgJ"
      },
      "source": [
        "import tensorflow as tf\n",
        "from tensorflow import keras"
      ],
      "execution_count": null,
      "outputs": []
    },
    {
      "cell_type": "code",
      "metadata": {
        "id": "oX21XizrKEgJ"
      },
      "source": [
        "train = pd.read_csv(path_train)\n",
        "train = transform_data(train)\n",
        "test = pd.read_csv(path_test)\n",
        "test = transform_data(test)"
      ],
      "execution_count": null,
      "outputs": []
    },
    {
      "cell_type": "code",
      "metadata": {
        "id": "ArNRnVTlKEgJ"
      },
      "source": [
        "from sklearn.model_selection import train_test_split\n",
        "\n",
        "X_train, X_test, y_train, y_test = train_test_split(train.drop(\"target\", axis=1), train['target'], test_size=0.20, random_state=42)"
      ],
      "execution_count": null,
      "outputs": []
    },
    {
      "cell_type": "code",
      "metadata": {
        "id": "AScKIilDKEgK"
      },
      "source": [
        "X_train_sites = X_train.iloc[:,:10]\n",
        "X_train_times = X_train.iloc[:,10:]\n",
        "X_test_sites = X_test.iloc[:,:10]\n",
        "X_test_times = X_test.iloc[:,10:]"
      ],
      "execution_count": null,
      "outputs": []
    },
    {
      "cell_type": "code",
      "metadata": {
        "id": "ZHiL5LiGKEgK",
        "colab": {
          "base_uri": "https://localhost:8080/"
        },
        "outputId": "7782888f-d920-4cd6-d4aa-8162b6115921"
      },
      "source": [
        "X_train_times.iloc[0].shape"
      ],
      "execution_count": null,
      "outputs": [
        {
          "output_type": "execute_result",
          "data": {
            "text/plain": [
              "(2,)"
            ]
          },
          "metadata": {
            "tags": []
          },
          "execution_count": 15
        }
      ]
    },
    {
      "cell_type": "code",
      "metadata": {
        "id": "xFxxu8CjKEgK"
      },
      "source": [
        "len(site_dictionary)"
      ],
      "execution_count": null,
      "outputs": []
    },
    {
      "cell_type": "code",
      "metadata": {
        "id": "nePR0QkpKEgK"
      },
      "source": [
        "# define two sets of inputs\n",
        "inputA = keras.layers.Input(shape=(10,))\n",
        "inputB = keras.layers.Input(shape=(2,))\n",
        "# the first branch operates on the first input\n",
        "x = keras.layers.Embedding(48371+1, 2)(inputA)\n",
        "x = keras.layers.Flatten()(x)\n",
        "x = keras.Model(inputs=inputA, outputs=x)\n",
        "# the second branch opreates on the second input\n",
        "y = keras.layers.Dense(16, activation=\"relu\")(inputB)\n",
        "y = keras.layers.Dense(4, activation=\"relu\")(y)\n",
        "y = keras.Model(inputs=inputB, outputs=y)\n",
        "# combine the output of the two branches\n",
        "combined = keras.layers.Concatenate()([x.output, y.output])\n",
        "# apply a FC layer and then a regression prediction on the\n",
        "# combined outputs\n",
        "z = keras.layers.Dense(64, activation=\"relu\")(combined)\n",
        "z = keras.layers.Dense(32, activation=\"relu\")(z)\n",
        "z = keras.layers.Dense(1, activation=\"sigmoid\")(z)\n",
        "# our model will accept the inputs of the two branches and\n",
        "# then output a single value\n",
        "model = keras.Model(inputs=[x.input, y.input], outputs=z)"
      ],
      "execution_count": null,
      "outputs": []
    },
    {
      "cell_type": "code",
      "metadata": {
        "id": "Str_XfGXKEgL"
      },
      "source": [
        "keras.utils.plot_model(model, to_file='model_plot.png', show_shapes=True, show_layer_names=True)"
      ],
      "execution_count": null,
      "outputs": []
    },
    {
      "cell_type": "code",
      "metadata": {
        "id": "H0kkY6MRKEgL",
        "colab": {
          "base_uri": "https://localhost:8080/"
        },
        "outputId": "4b2f1382-3784-4700-ca53-59f742682b25"
      },
      "source": [
        "model.summary()"
      ],
      "execution_count": null,
      "outputs": [
        {
          "output_type": "stream",
          "text": [
            "Model: \"model_11\"\n",
            "__________________________________________________________________________________________________\n",
            "Layer (type)                    Output Shape         Param #     Connected to                     \n",
            "==================================================================================================\n",
            "input_7 (InputLayer)            [(None, 10)]         0                                            \n",
            "__________________________________________________________________________________________________\n",
            "input_8 (InputLayer)            [(None, 2)]          0                                            \n",
            "__________________________________________________________________________________________________\n",
            "embedding_3 (Embedding)         (None, 10, 2)        96744       input_7[0][0]                    \n",
            "__________________________________________________________________________________________________\n",
            "dense_15 (Dense)                (None, 16)           48          input_8[0][0]                    \n",
            "__________________________________________________________________________________________________\n",
            "flatten_3 (Flatten)             (None, 20)           0           embedding_3[0][0]                \n",
            "__________________________________________________________________________________________________\n",
            "dense_16 (Dense)                (None, 4)            68          dense_15[0][0]                   \n",
            "__________________________________________________________________________________________________\n",
            "concatenate_3 (Concatenate)     (None, 24)           0           flatten_3[0][0]                  \n",
            "                                                                 dense_16[0][0]                   \n",
            "__________________________________________________________________________________________________\n",
            "dense_17 (Dense)                (None, 64)           1600        concatenate_3[0][0]              \n",
            "__________________________________________________________________________________________________\n",
            "dense_18 (Dense)                (None, 32)           2080        dense_17[0][0]                   \n",
            "__________________________________________________________________________________________________\n",
            "dense_19 (Dense)                (None, 1)            33          dense_18[0][0]                   \n",
            "==================================================================================================\n",
            "Total params: 100,573\n",
            "Trainable params: 100,573\n",
            "Non-trainable params: 0\n",
            "__________________________________________________________________________________________________\n"
          ],
          "name": "stdout"
        }
      ]
    },
    {
      "cell_type": "code",
      "metadata": {
        "id": "0DQA5eg8KEgM"
      },
      "source": [
        "model.compile(optimizer = keras.optimizers.Adam(learning_rate=0.01),\n",
        "              loss='binary_crossentropy', metrics = ['accuracy', 'AUC'])"
      ],
      "execution_count": null,
      "outputs": []
    },
    {
      "cell_type": "code",
      "metadata": {
        "id": "QbHVe5OaKEgM",
        "colab": {
          "base_uri": "https://localhost:8080/"
        },
        "outputId": "88604b43-48cd-40e1-f304-8de5726a8c8c"
      },
      "source": [
        "model.fit(\n",
        "    x=[X_train_sites, X_train_times], y=y_train,\n",
        "    validation_data=([X_test_sites, X_test_times], y_test),\n",
        "    epochs=10, verbose = 1)"
      ],
      "execution_count": null,
      "outputs": [
        {
          "output_type": "stream",
          "text": [
            "Epoch 1/10\n",
            "6339/6339 [==============================] - 21s 3ms/step - loss: 0.0473 - accuracy: 0.9899 - auc: 0.8360 - val_loss: 0.0334 - val_accuracy: 0.9910 - val_auc: 0.9108\n",
            "Epoch 2/10\n",
            "6339/6339 [==============================] - 20s 3ms/step - loss: 0.0290 - accuracy: 0.9917 - auc: 0.9523 - val_loss: 0.0313 - val_accuracy: 0.9919 - val_auc: 0.9151\n",
            "Epoch 3/10\n",
            "6339/6339 [==============================] - 21s 3ms/step - loss: 0.0262 - accuracy: 0.9924 - auc: 0.9593 - val_loss: 0.0295 - val_accuracy: 0.9924 - val_auc: 0.9370\n",
            "Epoch 4/10\n",
            "6339/6339 [==============================] - 20s 3ms/step - loss: 0.0248 - accuracy: 0.9928 - auc: 0.9601 - val_loss: 0.0341 - val_accuracy: 0.9921 - val_auc: 0.9158\n",
            "Epoch 5/10\n",
            "6339/6339 [==============================] - 21s 3ms/step - loss: 0.0234 - accuracy: 0.9931 - auc: 0.9692 - val_loss: 0.0325 - val_accuracy: 0.9924 - val_auc: 0.9131\n",
            "Epoch 6/10\n",
            "6339/6339 [==============================] - 21s 3ms/step - loss: 0.0227 - accuracy: 0.9932 - auc: 0.9689 - val_loss: 0.0422 - val_accuracy: 0.9920 - val_auc: 0.8748\n",
            "Epoch 7/10\n",
            "6339/6339 [==============================] - 20s 3ms/step - loss: 0.0231 - accuracy: 0.9932 - auc: 0.9604 - val_loss: 0.0330 - val_accuracy: 0.9921 - val_auc: 0.9273\n",
            "Epoch 8/10\n",
            "6339/6339 [==============================] - 21s 3ms/step - loss: 0.0223 - accuracy: 0.9934 - auc: 0.9693 - val_loss: 0.0344 - val_accuracy: 0.9922 - val_auc: 0.9291\n",
            "Epoch 9/10\n",
            "6339/6339 [==============================] - 20s 3ms/step - loss: 0.0233 - accuracy: 0.9931 - auc: 0.9709 - val_loss: 0.0334 - val_accuracy: 0.9923 - val_auc: 0.9250\n",
            "Epoch 10/10\n",
            "6339/6339 [==============================] - 20s 3ms/step - loss: 0.0224 - accuracy: 0.9932 - auc: 0.9736 - val_loss: 0.0386 - val_accuracy: 0.9921 - val_auc: 0.9240\n"
          ],
          "name": "stdout"
        },
        {
          "output_type": "execute_result",
          "data": {
            "text/plain": [
              "<tensorflow.python.keras.callbacks.History at 0x7f544ee40e10>"
            ]
          },
          "metadata": {
            "tags": []
          },
          "execution_count": 43
        }
      ]
    },
    {
      "cell_type": "code",
      "metadata": {
        "id": "RZcnpMGiKEgN",
        "colab": {
          "base_uri": "https://localhost:8080/"
        },
        "outputId": "77e22bfc-021c-43b7-e2b4-a5a29810521e"
      },
      "source": [
        "X_train_times.shape"
      ],
      "execution_count": null,
      "outputs": [
        {
          "output_type": "execute_result",
          "data": {
            "text/plain": [
              "(202848, 2)"
            ]
          },
          "metadata": {
            "tags": []
          },
          "execution_count": 36
        }
      ]
    },
    {
      "cell_type": "code",
      "metadata": {
        "id": "pQV1aFDsiXJW"
      },
      "source": [
        "model.save_weights(\"model.h5\")"
      ],
      "execution_count": null,
      "outputs": []
    },
    {
      "cell_type": "code",
      "metadata": {
        "id": "PuLtqIAXtp9I"
      },
      "source": [
        ""
      ],
      "execution_count": null,
      "outputs": []
    }
  ]
}